{
 "metadata": {
  "name": "",
  "signature": "sha256:23ef433e326cd2a8b1125f5e0e31577099df67cbd3ad5d42676ac53e76b1159f"
 },
 "nbformat": 3,
 "nbformat_minor": 0,
 "worksheets": [
  {
   "cells": [
    {
     "cell_type": "code",
     "collapsed": false,
     "input": [
      "import numpy as np\n",
      "import numpy.ma as ma\n",
      "import matplotlib.pyplot as plt\n",
      "import scipy.ndimage as ndi\n",
      "import scipy.misc\n",
      "import skimage, skimage.transform, skimage.filter\n",
      "\n",
      "%pylab inline\n",
      "pylab.rcParams['figure.figsize'] = (9, 9)"
     ],
     "language": "python",
     "metadata": {},
     "outputs": []
    },
    {
     "cell_type": "code",
     "collapsed": false,
     "input": [
      "def load(name):\n",
      "    data_filename = name + \".txt\"\n",
      "    point_cloud = np.loadtxt(data_filename)\n",
      "    matrix_filename = name + \"_matrix.txt\"\n",
      "    view_matrix = np.mat(np.loadtxt(matrix_filename))\n",
      "    return point_cloud, view_matrix"
     ],
     "language": "python",
     "metadata": {},
     "outputs": []
    },
    {
     "cell_type": "code",
     "collapsed": false,
     "input": [
      "def load_matrix(matrix_filename):\n",
      "    return np.mat(np.loadtxt(matrix_filename))"
     ],
     "language": "python",
     "metadata": {},
     "outputs": []
    },
    {
     "cell_type": "code",
     "collapsed": false,
     "input": [
      "def perspective_projection_matrix(fov_x, aspect_ratio, near_z, far_z):\n",
      "    dz = far_z - near_z\n",
      "    tx = np.tan(fov_x/2.0)\n",
      "    return np.matrix([\n",
      "        [1.0 / tx, 0, 0, 0],\n",
      "        [0, aspect_ratio / tx, 0, 0],\n",
      "        [0, 0, -(far_z - near_z)/dz, (-2.0*near_z*far_z)/dz],\n",
      "        [0, 0, -1.0, 0]\n",
      "    ])"
     ],
     "language": "python",
     "metadata": {},
     "outputs": []
    },
    {
     "cell_type": "code",
     "collapsed": false,
     "input": [
      "import subprocess\n",
      "import tempfile\n",
      "\n",
      "def project_external(point_cloud_file_name, image_size, view_matrix, projection_matrix):\n",
      "    executable = \"./projection/project\"\n",
      "    image_file = tempfile.NamedTemporaryFile()\n",
      "    \n",
      "    args = [\n",
      "        executable,\n",
      "        point_cloud_file_name,\n",
      "        image_file.name,\n",
      "        str(image_size[0]),\n",
      "        str(image_size[1])\n",
      "    ]\n",
      "    for row in range(4):\n",
      "        for col in range(4):\n",
      "            args.append( str(view_matrix[col, row]) )\n",
      "    for row in range(4):\n",
      "        for col in range(4):\n",
      "            args.append( str(projection_matrix[col, row]) )\n",
      "\n",
      "    subprocess.call(args)\n",
      "    \n",
      "    count = image_size[0] * image_size[1]\n",
      "    image = np.fromfile(image_file.name, dtype=np.float32, count=count)\n",
      "    image = image.reshape(image_size)\n",
      "    return image"
     ],
     "language": "python",
     "metadata": {},
     "outputs": []
    },
    {
     "cell_type": "code",
     "collapsed": false,
     "input": [
      "def project(point_cloud, image, view_matrix, projection_matrix):\n",
      "    z_buffer = np.full(image.shape, np.inf)\n",
      "    h, w = image.shape\n",
      "    \n",
      "    image.fill(0)\n",
      "    \n",
      "    for p in point_cloud:\n",
      "        # Get coordinates as homogeneous column vector\n",
      "        p = np.matrix([p[0], p[1], p[2], 1.0]).transpose()\n",
      "        \n",
      "        # Transform to view coordinate system and calculate distance\n",
      "        vp = view_matrix * p\n",
      "        distance = np.linalg.norm(vp)\n",
      "        \n",
      "        # Transform to projection coordinate system\n",
      "        pp = projection_matrix * vp\n",
      "        px, py = pp[0]/pp[3], pp[1]/pp[3]\n",
      "        \n",
      "        # Scale to image coordinates\n",
      "        px = int(np.floor(((px + 1.0) * w) / 2.0))\n",
      "        py = h - int(np.floor(((py + 1.0) * h) / 2.0))\n",
      "        if px < 0 or px >= w or py < 0 or py >= h:\n",
      "            continue\n",
      "        \n",
      "        # Write to image, with depth test\n",
      "        old_distance = z_buffer[py][px]\n",
      "        if distance < old_distance:\n",
      "            image[py][px] = distance\n",
      "            z_buffer[py][px] = distance"
     ],
     "language": "python",
     "metadata": {},
     "outputs": []
    },
    {
     "cell_type": "code",
     "collapsed": false,
     "input": [
      "def show_range_image(image, not_use_global_vminmax=False): \n",
      "    global vmin\n",
      "    global vmax\n",
      "    \n",
      "    if not_use_global_vminmax:\n",
      "        vmn = None\n",
      "        vmx = None\n",
      "    else:\n",
      "        vmn = vmin\n",
      "        vmx = vmax\n",
      "\n",
      "    plt.figure()\n",
      "    plt.imshow(\n",
      "        image,\n",
      "        cmap=plt.cm.gray_r,\n",
      "        interpolation='none',\n",
      "        vmin=vmn,\n",
      "        vmax=vmx\n",
      "    )"
     ],
     "language": "python",
     "metadata": {},
     "outputs": []
    },
    {
     "cell_type": "code",
     "collapsed": false,
     "input": [
      "def contains_holes(image):\n",
      "    kernel = [\n",
      "        [-1, -1, -1],\n",
      "        [-1,  1, -1],\n",
      "        [-1, -1, -1]\n",
      "    ]\n",
      "    zeroes_mask = (image == 0).astype(int)\n",
      "    convolved = ndi.convolve(zeroes_mask, kernel)\n",
      "    small_holes = (convolved > 0)\n",
      "    return (convolved[small_holes].size > 0)"
     ],
     "language": "python",
     "metadata": {},
     "outputs": []
    },
    {
     "cell_type": "code",
     "collapsed": false,
     "input": [
      "def multi_scale_range_image_stack(point_cloud, size, view_matrix, projection_matrix):\n",
      "    stack = []\n",
      "    \n",
      "    holes = True\n",
      "    w, h = size\n",
      "    \n",
      "    while holes and w > 1 and h > 1:\n",
      "        print \"Projecting at size\", w, \"x\", h\n",
      "        #image = np.empty((w, h))\n",
      "        #project(point_cloud, image, view_matrix, projection_matrix)\n",
      "        image = project_external(point_cloud, (w, h), view_matrix, projection_matrix)\n",
      "        stack.append(image)\n",
      "        \n",
      "        holes = contains_holes(image)\n",
      "        if holes:\n",
      "            w /= 2\n",
      "            h /= 2\n",
      "    \n",
      "    return stack"
     ],
     "language": "python",
     "metadata": {},
     "outputs": []
    },
    {
     "cell_type": "code",
     "collapsed": false,
     "input": [
      "def merge_range_image_stack(stack):\n",
      "    low_resolution = stack.pop()\n",
      "    high_resolution = low_resolution\n",
      "    while len(stack) > 0:         \n",
      "        high_resolution = stack.pop() \n",
      "        print \"Merging\", low_resolution.shape, \"with\", high_resolution.shape\n",
      "        \n",
      "        # Enlarge LR image using bilinear scaling\n",
      "        low_resolution = ndi.zoom(low_resolution, 2.0, order=1)\n",
      "        if low_resolution.shape != high_resolution.shape:\n",
      "            low_resolution.resize(high_resolution.shape)\n",
      "        \n",
      "        # Detect edges, and fill them with HR image pixels\n",
      "        edges = (low_resolution - low_resolution.min()) / low_resolution.ptp()\n",
      "        edges = skimage.filter.sobel(edges) > 0.05\n",
      "        low_resolution[edges] = high_resolution[edges]\n",
      "        \n",
      "        # Merge using minimum function, keeping LR pixel when it is 0 in HR\n",
      "        high_resolution_copy = high_resolution.copy()\n",
      "        high_resolution_copy[high_resolution_copy == 0] = np.inf\n",
      "        low_resolution = np.minimum(high_resolution_copy, low_resolution)\n",
      "        \n",
      "        show_range_image(low_resolution)\n",
      "            \n",
      "    return low_resolution"
     ],
     "language": "python",
     "metadata": {},
     "outputs": []
    },
    {
     "cell_type": "code",
     "collapsed": false,
     "input": [
      "def fill_remaining_holes(holes, image, radius=10):\n",
      "    selem = skimage.morphology.disk(radius)\n",
      "    image_fixed = skimage.filter.rank.mean_percentile(image, selem, p0=0.3, p1=0.6, mask=holes)\n",
      "    image_fixed[holes == False] = image[holes == False]\n",
      "    return image_fixed"
     ],
     "language": "python",
     "metadata": {},
     "outputs": []
    },
    {
     "cell_type": "heading",
     "level": 1,
     "metadata": {},
     "source": [
      "Load point cloud with view and projection matrices"
     ]
    },
    {
     "cell_type": "code",
     "collapsed": false,
     "input": [
      "name = \"dragon\"\n",
      "sz = (800, 800)\n",
      "vm = load_matrix(name+\"_matrix.txt\")\n",
      "pm = perspective_projection_matrix(0.3*np.pi, 1.0, 0.1, 100.0)"
     ],
     "language": "python",
     "metadata": {},
     "outputs": []
    },
    {
     "cell_type": "code",
     "collapsed": false,
     "input": [
      "name = \"bunny\"\n",
      "sz = (800, 800)\n",
      "vm = load_matrix(name+\"_matrix.txt\")\n",
      "pm = perspective_projection_matrix(0.25*np.pi, 1.0, 0.1, 100.0)"
     ],
     "language": "python",
     "metadata": {},
     "outputs": []
    },
    {
     "cell_type": "code",
     "collapsed": false,
     "input": [
      "image = project_external(name+\".txt\", sz, vm, pm)\n",
      "\n",
      "# Setup vmin and vmax for visualizations\n",
      "values = [v for v in image.flatten() if v > 0]\n",
      "vmin = min(values)\n",
      "vmax = max(values)\n",
      "\n",
      "# View\n",
      "show_range_image(image)"
     ],
     "language": "python",
     "metadata": {},
     "outputs": []
    },
    {
     "cell_type": "heading",
     "level": 1,
     "metadata": {},
     "source": [
      "Multi-scale projections stack"
     ]
    },
    {
     "cell_type": "code",
     "collapsed": false,
     "input": [
      "s = multi_scale_range_image_stack(name+\".txt\", sz, vm, pm)\n",
      "for im in s:\n",
      "    show_range_image(im)"
     ],
     "language": "python",
     "metadata": {},
     "outputs": []
    },
    {
     "cell_type": "heading",
     "level": 1,
     "metadata": {},
     "source": [
      "Merge multi-scale projections"
     ]
    },
    {
     "cell_type": "code",
     "collapsed": false,
     "input": [
      "img = merge_range_image_stack(list(s))"
     ],
     "language": "python",
     "metadata": {},
     "outputs": []
    },
    {
     "cell_type": "heading",
     "level": 1,
     "metadata": {},
     "source": [
      "Remplir trous restants"
     ]
    },
    {
     "cell_type": "code",
     "collapsed": false,
     "input": [
      "img_norm = (img - img.min()) / img.ptp()\n",
      "sobel = skimage.filter.sobel(img_norm)\n",
      "holes = (sobel > 0.1)\n",
      "holes = skimage.morphology.closing(holes, skimage.morphology.disk(3))\n",
      "\n",
      "plt.figure()\n",
      "plt.imshow(holes, cmap=plt.cm.gray)"
     ],
     "language": "python",
     "metadata": {},
     "outputs": []
    },
    {
     "cell_type": "code",
     "collapsed": false,
     "input": [
      "# Need to convert image to integers...\n",
      "image_int = (img - vmin) / (vmax - vmin)\n",
      "image_int[img == 0] = NAN\n",
      "image_int = skimage.img_as_uint(image_int)\n",
      "\n",
      "img_corrected = fill_remaining_holes(holes, image_int, 2)\n",
      "show_range_image(img_corrected, True)"
     ],
     "language": "python",
     "metadata": {},
     "outputs": []
    },
    {
     "cell_type": "heading",
     "level": 1,
     "metadata": {},
     "source": [
      "Projection initiale VS R\u00e9sultat superr\u00e9solution"
     ]
    },
    {
     "cell_type": "code",
     "collapsed": false,
     "input": [
      "show_range_image(image)\n",
      "show_range_image(img_corrected, True)"
     ],
     "language": "python",
     "metadata": {},
     "outputs": []
    },
    {
     "cell_type": "code",
     "collapsed": false,
     "input": [],
     "language": "python",
     "metadata": {},
     "outputs": []
    }
   ],
   "metadata": {}
  }
 ]
}